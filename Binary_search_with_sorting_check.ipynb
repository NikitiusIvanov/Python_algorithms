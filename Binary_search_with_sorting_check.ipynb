{
 "cells": [
  {
   "cell_type": "markdown",
   "metadata": {},
   "source": [
    "#  Бинарный поиск в массиве"
   ]
  },
  {
   "cell_type": "code",
   "execution_count": 131,
   "metadata": {},
   "outputs": [
    {
     "name": "stdout",
     "output_type": "stream",
     "text": [
      "index: , 2, Element: , 6\n"
     ]
    }
   ],
   "source": [
    "def binary_search(A, key, ascending = True) :\n",
    "    \"\"\"Проверка массива на отсортированность\"\"\"\n",
    "    flag = True\n",
    "    s = 2*int(ascending)-1\n",
    "    N = len(A)\n",
    "    for i in range(0, N-1) :\n",
    "        if s*A[i] > s*A[i+1] :\n",
    "            flag = False\n",
    "    if flag == False :        \n",
    "        B = hoar_sort(A, key)\n",
    "        binary_search(B, key)\n",
    "    else :\n",
    "        left_bound(A, key)\n",
    "        right_bound(A, key)\n",
    "        find_result(A, key)\n",
    "    \n",
    "        \n",
    "# Аглоритм начинается с функции проверки массива на отсортированность, если массив не отсортирован - выдается False\n",
    "# и запускается алгоритм сортировки Хоара\n",
    "\n",
    "def hoar_sort(A, key) :\n",
    "    if len(A) <= 1 :\n",
    "        return A\n",
    "    else :\n",
    "            barrier = A[0]\n",
    "            L = []\n",
    "            M = []\n",
    "            R = []\n",
    "            for x in A :\n",
    "                if x < barrier :\n",
    "                    L.append(x)\n",
    "                elif x > barrier :\n",
    "                    R.append(x)\n",
    "                else :\n",
    "                    M.append(x)             \n",
    "            return hoar_sort(L, key) + M + hoar_sort(R, key)\n",
    "\n",
    " \n",
    "        \n",
    "        \n",
    "def left_bound(A, key) :\n",
    "                  \n",
    "    left = -1\n",
    "    right = len(A)\n",
    "    while right - left > 1 :\n",
    "        middle = (left+right)//2\n",
    "        if A[middle] < key :\n",
    "            left = middle\n",
    "        else :\n",
    "            right = middle\n",
    "    return left\n",
    "\n",
    "def right_bound(A, key) :\n",
    "               \n",
    "    left = -1\n",
    "    right = len(A)\n",
    "    while right - left > 1 :\n",
    "        middle = (left+right)//2\n",
    "        if A[middle] <= key :\n",
    "            left = middle\n",
    "        else :\n",
    "            right = middle\n",
    "    return right\n",
    "\n",
    "\n",
    "\n",
    "def find_result(A, key) :\n",
    "    a = left_bound(A, key)\n",
    "    b = right_bound(A, key)\n",
    "    if b-a < 2 :\n",
    "        print(\"Not find\")\n",
    "    if b-a == 2 :\n",
    "        print(\"index: \", a+1, \"Element: \", A[a+1], sep = \", \")\n",
    "    else :\n",
    "        for i in range ((a+1), b) :\n",
    "            \n",
    "            print (\"Индекс элемента: \", i, \"Значение:\", A[i], sep = \", \")\n",
    "    \n",
    "\n",
    "\n",
    "A = [6,3,5,7,99999]\n",
    "\n",
    "\n",
    "\n",
    "binary_search(A, 6)\n",
    "            \n"
   ]
  },
  {
   "cell_type": "code",
   "execution_count": null,
   "metadata": {},
   "outputs": [],
   "source": []
  }
 ],
 "metadata": {
  "kernelspec": {
   "display_name": "Python 3",
   "language": "python",
   "name": "python3"
  },
  "language_info": {
   "codemirror_mode": {
    "name": "ipython",
    "version": 3
   },
   "file_extension": ".py",
   "mimetype": "text/x-python",
   "name": "python",
   "nbconvert_exporter": "python",
   "pygments_lexer": "ipython3",
   "version": "3.7.0"
  }
 },
 "nbformat": 4,
 "nbformat_minor": 2
}
