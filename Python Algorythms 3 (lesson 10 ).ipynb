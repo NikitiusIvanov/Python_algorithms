{
 "cells": [
  {
   "cell_type": "markdown",
   "metadata": {},
   "source": [
    "# Бинарный поиск в массиве"
   ]
  },
  {
   "cell_type": "code",
   "execution_count": 71,
   "metadata": {},
   "outputs": [],
   "source": [
    "from pandas import DataFrame, read_csv\n",
    "import matplotlib.pyplot as plt\n",
    "import pandas as pd #импортируем пандас и называем его для удобства pd\n",
    "import sys #это просто для определения версии питона\n",
    "import matplotlib #only needed to determine Matplotlib version number\n",
    "import numpy as np"
   ]
  },
  {
   "cell_type": "code",
   "execution_count": null,
   "metadata": {},
   "outputs": [],
   "source": [
    "D = [1,3,3,4,55,77,88,3,5,6,8,888,73,14,125,8,1]\n",
    "for i in range len(D)\n",
    "А = D[:len(D)//2]\n",
    "B = D[len(D)//2:]\n",
    "\n",
    "A = [1,3,4,5,6]\n",
    "B = [4,5,3,2,7]\n",
    "C = [0]*(len(A)+len(B))\n",
    "i = n = k = 0 #создаем индексы для наших трех массивов c начальным значением 0 \n",
    "while i<len(A) and k<len(B): \n",
    "    if A[i]<=B[k]:\n",
    "        C[n] = A[i]\n",
    "        i +=1\n",
    "        n +=1\n",
    "    else:\n",
    "        C[n] = B[k]\n",
    "        k +=1\n",
    "        n +=1\n",
    "while i < len(A):\n",
    "    C[n] = A[i]\n",
    "    n +=1\n",
    "    i +=1\n",
    "while k < len(B):\n",
    "    C[n] = B[k]\n",
    "    n +=1\n",
    "    k +=1     \n",
    "    \n",
    "def left_bound(A, key):  #\n",
    "    left = -1\n",
    "    right = len(A)   #\n",
    "    while right - left > 1:  \n",
    "        middle = (left+right)//2  \n",
    "        if A[middle]<key:\n",
    "            left=middle\n",
    "        else: \n",
    "            right=middle\n",
    "    return left\n",
    "def right_bound(A, key):  #\n",
    "    left = -1\n",
    "    right = len(A)   #\n",
    "    while right - left > 1:  \n",
    "        middle = (left+right)//2  \n",
    "        if A[middle]<=key:\n",
    "            left=middle\n",
    "        else: \n",
    "            right=middle\n",
    "    return right\n",
    "            \n",
    "    "
   ]
  },
  {
   "cell_type": "code",
   "execution_count": 112,
   "metadata": {},
   "outputs": [
    {
     "name": "stdout",
     "output_type": "stream",
     "text": [
      "[1, 3, 3, 4, 55, 77, 88, 3, 5, 6, 8, 888, 73, 14, 125, 8, 1]\n"
     ]
    }
   ],
   "source": [
    "# Поэлементное копирование массива\n",
    "\n",
    "D = [1,3,3,4,55,77,88,3,5,6,8,888,73,14,125,8,1]\n",
    "G = [0]*len(D)\n",
    "\n",
    "for i in range (0, len(D)) :\n",
    "        G[n] = D[i]\n",
    "        n +=1\n",
    "        \n",
    "    \n",
    "print(G)"
   ]
  },
  {
   "cell_type": "code",
   "execution_count": 28,
   "metadata": {},
   "outputs": [
    {
     "data": {
      "text/plain": [
       "[1, 3, 4, 4, 5, 5, 3, 2, 6, 7]"
      ]
     },
     "execution_count": 28,
     "metadata": {},
     "output_type": "execute_result"
    }
   ],
   "source": [
    "A = [1,3,4,5,6]\n",
    "B = [4,5,3,2,7]\n",
    "C = [0]*(len(A)+len(B))\n",
    "i = n = k = 0 #создаем индексы для наших трех массивов c начальным значением 0 \n",
    "while i<len(A) and k<len(B): \n",
    "    if A[i]<=B[k]:\n",
    "        C[n] = A[i]\n",
    "        i +=1\n",
    "        n +=1\n",
    "    else:\n",
    "        C[n] = B[k]\n",
    "        k +=1\n",
    "        n +=1\n",
    "while i < len(A):\n",
    "    C[n] = A[i]\n",
    "    n +=1\n",
    "    i +=1\n",
    "while k < len(B):\n",
    "    C[n] = B[k]\n",
    "    n +=1\n",
    "    k +=1        \n",
    "C"
   ]
  },
  {
   "cell_type": "code",
   "execution_count": 48,
   "metadata": {},
   "outputs": [],
   "source": [
    "# Алгоритм Сортировки слиянием уже отсортированных массивов, состоящий из двух функций, разбиения массива на единичные \n",
    "# и слияния двух массивов с поэлементным сравнением\n",
    "\n",
    "def merge(A:list, B:list) :\n",
    "\"\"\"функция получает два отсортированных массива и сравнивая их по-элементно сливает их в один\"\"\"    \n",
    "    C = [0]*(len(A)+len(B))\n",
    "    i = n = k = 0 #создаем индексы для наших трех массивов c начальным значением 0 \n",
    "    while i<len(A) and k<len(B): \n",
    "        if A[i]<=B[k]:\n",
    "            C[n] = A[i]\n",
    "            i +=1\n",
    "            n +=1\n",
    "        else:\n",
    "            C[n] = B[k]\n",
    "            k +=1\n",
    "            n +=1\n",
    "    while i < len(A):\n",
    "        C[n] = A[i]\n",
    "        n +=1\n",
    "        i +=1\n",
    "    while k < len(B):\n",
    "        C[n] = B[k]\n",
    "        n +=1\n",
    "        k +=1\n",
    "    return C\n",
    "\n",
    "# Функция реккурентного разбиения массивов на половины пока их длинна больше 1\n",
    "# Таким образом мы получаем единичные массивы, которые автоматически получаются отсортированными.\n",
    "# затем последовательно сливаем еденичные массивы сравнивая поэлементно, затем массивы из двух элементов и т.д.\n",
    "\n",
    "def merge_sort(A):\n",
    "    if len(A) <= 1 :\n",
    "        return\n",
    "    middle = len(A)//2\n",
    "    L = [A[i] for i in range(0, middle)]\n",
    "    R = [A[i] for i in range(middle, len(A))]\n",
    "    merge_sort(L)\n",
    "    merge_sort(R)\n",
    "    C = merge(L, R)\n",
    "    for i in range (len(A)) :\n",
    "        A[i] = C[i]"
   ]
  },
  {
   "cell_type": "code",
   "execution_count": 50,
   "metadata": {},
   "outputs": [
    {
     "name": "stdout",
     "output_type": "stream",
     "text": [
      "[1, 2, 5, 7, 8, 11, 99, 134]\n"
     ]
    }
   ],
   "source": [
    "A = [1, 5, 7, 99, 134, 2, 11, 8]\n",
    "merge_sort(A)\n",
    "print(A)"
   ]
  },
  {
   "cell_type": "code",
   "execution_count": 51,
   "metadata": {},
   "outputs": [
    {
     "name": "stdout",
     "output_type": "stream",
     "text": [
      "Тестируем:  сортировка списка А вставками\n",
      "testcase #1: ok\n",
      "testcase #2: ok\n",
      "testcase #3: ok\n",
      "Тестируем:  сортировка списка А выбором\n",
      "testcase #1: ok\n",
      "testcase #2: ok\n",
      "testcase #3: ok\n",
      "Тестируем:  сортировка списка А методом пузырька\n",
      "testcase #1: ok\n",
      "testcase #2: ok\n",
      "testcase #3: ok\n"
     ]
    }
   ],
   "source": [
    "#Cортировка Вставками, Выбором и Пузырьком:\n",
    "\n",
    "#Сортировка вставками, для сокращения присваиваем переменную N равную длинне массива,\n",
    "# назначаем переменную Топ которая начинается со 2-го элемента и  будет сравниваться с предыдущим\n",
    "# До тех пор пока мы не доходим до 1-го элемента, если значение прерыдущего элемента оказывается больше \n",
    "# то Топ и этот элемент меняются местами \n",
    "\n",
    "def insert_sort(A) :\n",
    "    \"\"\"сортировка списка А вставками\"\"\"\n",
    "    N = len(A)\n",
    "    for top in range(1, N) :\n",
    "        k = top\n",
    "        while k > 0 and A[k-1] > A[k]: #очень важно вставлять сначала условие что к -тый элемент больше нуля что бы алгорим\n",
    "            #не ушел в -1-й элемент, тогда если первое условие уже не выполнено то все остальное после and уже учитывается\n",
    "            A[k], A[k-1] = A[k-1], A[k] # просто меняем элементы местами если слева от элемента стоит меньший\n",
    "                                         # алгоритм требует О(n**2) по времени\n",
    "            k -= 1\n",
    "\n",
    "def choise_sort(A) :\n",
    "    \"\"\"сортировка списка А выбором\"\"\"\n",
    "    N = len(A)\n",
    "    for pos in range(0, N-1) :\n",
    "        for k in range (pos+1, N) :\n",
    "            if A[k] < A[pos] :\n",
    "                A[k], A[pos] = A[pos], A[k]\n",
    "            \n",
    "\n",
    "def bubble_sort(A) :\n",
    "    \"\"\"сортировка списка А методом пузырька\"\"\"\n",
    "    N = len(A)\n",
    "    for bypass in range(1, N) :\n",
    "        for k in range(0, N-bypass) :\n",
    "            if A[k] > A[k+1] :\n",
    "                A[k], A[k+1] = A[k+1], A[k]\n",
    "\n",
    "def test_sort(sort_algorithm) :\n",
    "\"\"\"Функция тестирования функций\"\"\"\n",
    "    print(\"Тестируем: \", sort_algorithm.__doc__) #получает описание функции и выводит на экран\n",
    "    print(\"testcase #1: \", end=\"\")\n",
    "    A = [2, 3, 6, 4, 7]\n",
    "    A_sorted = [2, 3, 4, 6, 7]\n",
    "    sort_algorithm(A)\n",
    "    print(\"ok\" if A==A_sorted else \"fail\")\n",
    "    \n",
    "    print(\"testcase #2: \", end=\"\")\n",
    "    A = list(range(10, 20))+list(range(0, 10))\n",
    "    A_sorted = list(range(0, 20))\n",
    "    sort_algorithm(A)\n",
    "    print(\"ok\" if A==A_sorted else \"fail\")  \n",
    "    \n",
    "    print(\"testcase #3: \", end=\"\")\n",
    "    A = [2, 3, 3, 1, 1]\n",
    "    A_sorted = [1, 1, 2, 3, 3]\n",
    "    sort_algorithm(A)\n",
    "    print(\"ok\" if A==A_sorted else \"fail\") \n",
    "    \n",
    "if __name__ == \"__main__\" :  # Перебирает все имена функций по-очереди\n",
    "    test_sort(insert_sort)\n",
    "    test_sort(choise_sort)\n",
    "    test_sort(bubble_sort)"
   ]
  },
  {
   "cell_type": "code",
   "execution_count": 2,
   "metadata": {},
   "outputs": [],
   "source": []
  },
  {
   "cell_type": "code",
   "execution_count": 7,
   "metadata": {},
   "outputs": [],
   "source": [
    "#Фрактальный, рекурсионный квадрат (не получился)\n",
    "\n",
    "import graphics as gr\n",
    "window = gr.GraphWin(\"Russian game\", 600, 600)\n",
    "alpha = 0,1\n",
    "\n",
    "def fractal_rectangle(A, B, C, D, deep = 100) :\n",
    "    if deep < 1 :\n",
    "        return\n",
    "    for M, N in (A, B), (B, C), (C, D), (D, A) :\n",
    "        gr.Line(gr.Point(*M), gr.Point(*N) .draw(window))\n",
    "    A1 = (A[0]*(1-alpha) + B[0]*alpha, A[1]*(1-alpha) + B[1]*alpha)\n",
    "    B1 = (B[0]*(1-alpha) + C[0]*alpha, B[1]*(1-alpha) + C[1]*alpha)\n",
    "    C1 = (C[0]*(1-alpha) + D[0]*alpha, C[1]*(1-alpha) + D[1]*alpha)\n",
    "    D1 = (D[0]*(1-alpha) + A[0]*alpha, D[1]*(1-alpha) + A[1]*alpha)\n",
    "    fractal_rectangle(A1, B1, C1, D1, deep-1)\n"
   ]
  },
  {
   "cell_type": "code",
   "execution_count": 114,
   "metadata": {},
   "outputs": [
    {
     "data": {
      "text/plain": [
       "120"
      ]
     },
     "execution_count": 114,
     "metadata": {},
     "output_type": "execute_result"
    }
   ],
   "source": [
    "# Факториал числа\n",
    "\n",
    "def f(n : int) :\n",
    "    assert n >= 0, \"Факториал отрицательного не определен\"\n",
    "    if n == 0 :  \n",
    "        return 1   # Обрабатываем крайний случай рекурсии\n",
    "    return f(n-1)*n # пока аргумент не меньше 0 будет вычислять рекурсию (аргумент -1) умножить на аргумент\n",
    "f(5)"
   ]
  },
  {
   "cell_type": "code",
   "execution_count": 117,
   "metadata": {},
   "outputs": [
    {
     "name": "stdout",
     "output_type": "stream",
     "text": [
      "3 3\n"
     ]
    }
   ],
   "source": [
    "# Рекурсивный алгоритм Евклида для нахождения НОД - наибольшего числа на которое делятся оба аргумента\n",
    "\n",
    "def gcd(a, b) :\n",
    "    if a == b :\n",
    "        return a # если аргументы равны, возвращаем первый\n",
    "    elif a > b :\n",
    "        return gcd(a-b, b) # если первый аргумент больше то входим в рекурсию и \n",
    "                            # подаем на вход алгоритму пару (разница первого и второго, второй)\n",
    "    else :\n",
    "        return gcd(a, b-a) # если второй аргумент больше, то входим в рекурсию и \n",
    "                            # подаем на вход алгоритму пару ( первый аргумент, разница второго и первого)\n",
    "        #рекурсия завершится, когда на вход функции попадут два одинаковых аргумента это значени и будет НОД                \n",
    "gcd(135, 24)\n",
    "\n",
    "# Оптимизация Алгоритма Евклида, заметим что НОД будет так же делителем чисел (в, а % в) то есть\n",
    "# первого аргумента и остатка от деления первого аргумента на второй\n",
    "# тогда значения НОД от двух аргументов будут равны:\n",
    "# первому аргументу если второй равен 0 \n",
    "# и НОД от ( первого аргумента и остатка деления первого на второй)\n",
    "\n",
    "def gcd_optimize(a, b) :\n",
    "    if b == 0 :\n",
    "        return a # если аргументы равны, возвращаем первый\n",
    "    else :\n",
    "        return gcd(b, a%b)\n",
    "    \n",
    "print( gcd(135, 24), gcd_optimize(135, 24))\n"
   ]
  },
  {
   "cell_type": "code",
   "execution_count": 33,
   "metadata": {},
   "outputs": [
    {
     "data": {
      "text/plain": [
       "1024"
      ]
     },
     "execution_count": 33,
     "metadata": {},
     "output_type": "execute_result"
    }
   ],
   "source": [
    "# Рекурсивный алгоритм быстрого возведения в степень\n",
    "# Проверяем делится ли наш показатель степени на 2 без остатка\n",
    "# Если нет то уменьшаем степень на еденицу и умножаем на основание\n",
    "# Если да то основание умножаем само на себя, а показатель степени делим на 2\n",
    "\n",
    "def power(a : float, n : int) :\n",
    "    if n == 0 :\n",
    "        return 1\n",
    "    elif n%2 == 1 :\n",
    "        return power(a, n-1)*a\n",
    "    else :\n",
    "        return power(a**2, n//2)\n",
    "power(2, 10)    "
   ]
  },
  {
   "cell_type": "code",
   "execution_count": 149,
   "metadata": {},
   "outputs": [
    {
     "name": "stdout",
     "output_type": "stream",
     "text": [
      "00, 01, 02, 03, 04, 05, 06, 07, 08, 09, 10, 11, 12, 13, 14, 15, 16, 17, 18, 19, 20, 21, 22, 23, 24, 25, 26, 27, 28, 29, 30, 31, 32, 33, 34, 35, 36, 37, 38, 39, 40, 41, 42, 43, 44, 45, 46, 47, 48, 49, 50, 51, 52, 53, 54, 55, 56, 57, 58, 59, 60, 61, 62, 63, 64, 65, 66, 67, 68, 69, 70, 71, 72, 73, 74, 75, 76, 77, 78, 79, 80, 81, 82, 83, 84, 85, 86, 87, 88, 89, 90, 91, 92, 93, 94, 95, 96, 97, 98, 99, "
     ]
    }
   ],
   "source": [
    "# Алгоритм генерации чисел от 000 до 999\n",
    "\n",
    "def generate_numbers(N: int, M: int, prefix = None) :  # функция выдает все возможные слова длинной M букв\n",
    "                                                       # над N буквеным алфавитом\n",
    "                                                       # Что бы не задавать пустое изначально, но изменяющееся в последствии\n",
    "                                                       # значение префикса, \n",
    "                                                       # Указываем его в аргументах, но значение пишем None\n",
    "                                                       # Затем в функции пишем префикс = префикс или пустой массив\n",
    "                                                       # что сразу задает функцию пустого массива на первой итерации\n",
    "                                                       # а на всех последующих не изменяет уже того что в нем имеется\n",
    "    prefix = prefix or []\n",
    "    if M == 0 :\n",
    "        \n",
    "        print(*prefix, end = \", \", sep =\"\")\n",
    "        return\n",
    "    for digit in range (N) :\n",
    "        prefix.append(digit)\n",
    "        generate_numbers(N, M-1, prefix)\n",
    "        prefix.pop()\n",
    "\n",
    "generate_numbers(10, 2)  \n"
   ]
  },
  {
   "cell_type": "code",
   "execution_count": 161,
   "metadata": {},
   "outputs": [
    {
     "name": "stdout",
     "output_type": "stream",
     "text": [
      "12, 13, 14, 15, 16, 17, 18, 19, 21, 23, 24, 25, 26, 27, 28, 29, 31, 32, 34, 35, 36, 37, 38, 39, 41, 42, 43, 45, 46, 47, 48, 49, 51, 52, 53, 54, 56, 57, 58, 59, 61, 62, 63, 64, 65, 67, 68, 69, 71, 72, 73, 74, 75, 76, 78, 79, 81, 82, 83, 84, 85, 86, 87, 89, 91, 92, 93, 94, 95, 96, 97, 98, "
     ]
    }
   ],
   "source": [
    "# Алгоритм генерации перестановок цифр в числах размера M, в системе исчисления N от 0 до 10 \n",
    "# Отличается от обычной генерации чисел тем что мы не можем иметь две одинаковые цифры в числе\n",
    "\n",
    "def find_number(number, A) :\n",
    "    flag = False\n",
    "    for x in A :\n",
    "        if number == x :\n",
    "            flag = True\n",
    "            break\n",
    "    return flag\n",
    "\n",
    "def gen_permutations(N:int, M:int=-1, prefix=None):\n",
    "    M = M if M != -1 else N                         # функция получает количество цифр от 0 до 9  и размер числа,\n",
    "    prefix = prefix or []\n",
    "    if M == 0 :\n",
    "        \n",
    "        print(*prefix, end = \", \", sep =\"\") # *- передает все значения префикса на печать, end - разделение строк, \n",
    "                                            #sep - разделение элементов\n",
    "        return\n",
    "    for number in range (1, N+1) :\n",
    "        if find_number(number, prefix) :\n",
    "            continue\n",
    "        prefix.append(number)\n",
    "        gen_permutations(N, M-1, prefix)\n",
    "        prefix.pop()\n",
    "\n",
    "gen_permutations(9, 2)       \n",
    "\n",
    "\n"
   ]
  },
  {
   "cell_type": "code",
   "execution_count": 86,
   "metadata": {},
   "outputs": [
    {
     "data": {
      "text/plain": [
       "[1, 2, 5, 7, 8, 11, 99, 134]"
      ]
     },
     "execution_count": 86,
     "metadata": {},
     "output_type": "execute_result"
    }
   ],
   "source": [
    "# Сортировка Тони Хоара (Quick Sort) так называемая быстрая сортировка, в большинстве случаев имеет скорость \n",
    "# выполнения О(nlog n) но в случае неудачного выбора барьерного элемента может упасть до n**2 \n",
    "\n",
    "def hoar_sort(A) :\n",
    "    if len(A) <= 1 :\n",
    "        return A\n",
    "    else :\n",
    "            barrier = A[0]\n",
    "            L = []\n",
    "            M = []\n",
    "            R = []\n",
    "            for x in A :\n",
    "                if x < barrier :\n",
    "                    L.append(x)\n",
    "                elif x > barrier :\n",
    "                    R.append(x)\n",
    "                else :\n",
    "                    M.append(x) \n",
    "            return hoar_sort(L) + M + hoar_sort(R) # одновременно склеивает сравненные с барьерным элементом массивы и \n",
    "                                                   # сразу подает левые и правые части на вход в рекурсию\n",
    "C = [1, 5, 7, 99, 134, 2, 11, 8]\n",
    "hoar_sort(C)   "
   ]
  },
  {
   "cell_type": "code",
   "execution_count": null,
   "metadata": {},
   "outputs": [],
   "source": []
  }
 ],
 "metadata": {
  "kernelspec": {
   "display_name": "Python 3",
   "language": "python",
   "name": "python3"
  },
  "language_info": {
   "codemirror_mode": {
    "name": "ipython",
    "version": 3
   },
   "file_extension": ".py",
   "mimetype": "text/x-python",
   "name": "python",
   "nbconvert_exporter": "python",
   "pygments_lexer": "ipython3",
   "version": "3.7.0"
  }
 },
 "nbformat": 4,
 "nbformat_minor": 2
}
