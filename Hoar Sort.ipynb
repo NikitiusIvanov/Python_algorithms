{
 "cells": [
  {
   "cell_type": "code",
   "execution_count": null,
   "metadata": {},
   "outputs": [],
   "source": [
    "# Сортировка Тони Хоара (Quick Sort)\n",
    "\n",
    "def hoar_sort(A) :\n",
    "    if len(A) <= 1 :\n",
    "        return\n",
    "    barrier = A[0]\n",
    "    L = [0]\n",
    "    M = [0]\n",
    "    R = [0]\n",
    "    \n",
    "    for x in A :\n",
    "        if x < barrier :\n",
    "            L.append(x)\n",
    "            \n",
    "        elif x == barrier :\n",
    "            M.append(x)\n",
    "            \n",
    "        else :\n",
    "            R.append(x) \n",
    "        \n",
    "    hoar_sort(L)\n",
    "    hoar_sort(R)\n",
    "    k = 0\n",
    "    for x in L+M+R :\n",
    "        A[k] = x\n",
    "        k += 1\n",
    "\n",
    "        \n",
    "C = [1, 5, 7, 99, 134, 2, 11, 8]\n",
    "hoar_sort(C)\n",
    "print(C)"
   ]
  }
 ],
 "metadata": {
  "kernelspec": {
   "display_name": "Python 3",
   "language": "python",
   "name": "python3"
  },
  "language_info": {
   "codemirror_mode": {
    "name": "ipython",
    "version": 3
   },
   "file_extension": ".py",
   "mimetype": "text/x-python",
   "name": "python",
   "nbconvert_exporter": "python",
   "pygments_lexer": "ipython3",
   "version": "3.7.0"
  }
 },
 "nbformat": 4,
 "nbformat_minor": 2
}
